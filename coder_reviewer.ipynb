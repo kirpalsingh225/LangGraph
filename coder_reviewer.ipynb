{
 "cells": [
  {
   "cell_type": "code",
   "execution_count": 297,
   "metadata": {},
   "outputs": [
    {
     "data": {
      "text/plain": [
       "True"
      ]
     },
     "execution_count": 297,
     "metadata": {},
     "output_type": "execute_result"
    }
   ],
   "source": [
    "from langgraph.graph import START, END, StateGraph, MessagesState\n",
    "from typing import TypedDict, Literal\n",
    "from IPython.display import Image, display\n",
    "from langchain_groq import ChatGroq\n",
    "from dotenv import load_dotenv\n",
    "from langchain_google_genai import ChatGoogleGenerativeAI\n",
    "from langchain_core.messages import HumanMessage, SystemMessage\n",
    "from pydantic import BaseModel, Field\n",
    "from langchain_groq import ChatGroq\n",
    "load_dotenv()"
   ]
  },
  {
   "cell_type": "code",
   "execution_count": 303,
   "metadata": {},
   "outputs": [],
   "source": [
    "llm = ChatGroq(\n",
    "    model=\"llama-3.1-8b-instant\",\n",
    "    temperature=0,\n",
    ")"
   ]
  },
  {
   "cell_type": "code",
   "execution_count": 250,
   "metadata": {},
   "outputs": [],
   "source": [
    "class MyState(MessagesState):\n",
    "    question: str\n",
    "    itr: int\n",
    "    quality: int"
   ]
  },
  {
   "cell_type": "code",
   "execution_count": 304,
   "metadata": {},
   "outputs": [],
   "source": [
    "class CoderOutput(BaseModel):\n",
    "    code: str = Field(description=\"Contains the code for the problem\")"
   ]
  },
  {
   "cell_type": "code",
   "execution_count": 351,
   "metadata": {},
   "outputs": [],
   "source": [
    "class ReviewerOutput(BaseModel):\n",
    "    score: int = Field(description=\"Score to the given input out of 1000\")\n",
    "    comment: str = Field(description=\"Contains the relevant comment for the input\")"
   ]
  },
  {
   "cell_type": "code",
   "execution_count": 352,
   "metadata": {},
   "outputs": [],
   "source": [
    "coder_llm = llm.with_structured_output(schema=CoderOutput)"
   ]
  },
  {
   "cell_type": "code",
   "execution_count": 353,
   "metadata": {},
   "outputs": [],
   "source": [
    "reviewer_llm = llm.with_structured_output(schema=ReviewerOutput)"
   ]
  },
  {
   "cell_type": "code",
   "execution_count": 354,
   "metadata": {},
   "outputs": [],
   "source": [
    "def coder(state):\n",
    "    try:\n",
    "        print(\"------------ CODER START ------------\")\n",
    "        question = state[\"question\"]\n",
    "        sys_msg = SystemMessage(content='''You are an expert coder and your task is to write code based on the given question and output \n",
    "        the code in the code key''')\n",
    "        human_msg = HumanMessage(content=f\"Write me code for {question}\")\n",
    "        answer = coder_llm.invoke([sys_msg] + [human_msg])\n",
    "        print(\"ANSWER CODE ------\", answer)\n",
    "        print(\"------------ CODER END ------------\")\n",
    "\n",
    "        return {\"messages\": [answer.code], \"itr\": state[\"itr\"] + 1}\n",
    "    except Exception as e:\n",
    "        print(f\"failed due to exception {e}\")"
   ]
  },
  {
   "cell_type": "code",
   "execution_count": 378,
   "metadata": {},
   "outputs": [],
   "source": [
    "def reviewer(state):\n",
    "    print(\"--------- REVIEWER START ----------\")\n",
    "    question = state[\"question\"]\n",
    "    generated_code = state[\"messages\"][0].content\n",
    "    print(\"GENERATED CODE-----\", generated_code)\n",
    "    sys_msg = SystemMessage(content='''You are a code high level review expert and your task is to review the code and provide the best feedback to improve the code\n",
    "    and quality score to the code in the score key from 0-1000 based on the code structure and every aspect \n",
    "     and in the comment key provide the comments''')\n",
    "    human_msg = HumanMessage(content=f\"The question was - {question} and the generated code was - {generated_code}. Write a report on this code\")\n",
    "    report = reviewer_llm.invoke([sys_msg] + [human_msg])\n",
    "\n",
    "    q_score = report.score\n",
    "    comment = report.comment\n",
    "\n",
    "    print(\"Score given is --- \", q_score)\n",
    "    print(\"Comments given is --- \", comment)\n",
    "    print(\"--------- REVIEWER END ----------\")\n",
    "\n",
    "    if report.score < 900:\n",
    "        comment = f\"The code is not up to the mark. Please write the code according to the comments\" + comment\n",
    "\n",
    "    return {\"messages\": [comment], \"quality\": q_score}"
   ]
  },
  {
   "cell_type": "code",
   "execution_count": 379,
   "metadata": {},
   "outputs": [],
   "source": [
    "def router(state) -> Literal[\"coder\", END]:\n",
    "    iterations = state[\"itr\"]\n",
    "\n",
    "    print(\"ITERATIONS IN ROUTER----\", iterations)\n",
    "\n",
    "    if iterations > 10:\n",
    "        return END\n",
    "\n",
    "    if state[\"quality\"] < 900:\n",
    "        return \"coder\"\n",
    "\n",
    "    return END"
   ]
  },
  {
   "cell_type": "code",
   "execution_count": 380,
   "metadata": {},
   "outputs": [],
   "source": [
    "builder = StateGraph(MyState)"
   ]
  },
  {
   "cell_type": "code",
   "execution_count": null,
   "metadata": {},
   "outputs": [],
   "source": [
    "builder.add_node(\"coder\", coder)\n",
    "builder.add_node(\"review\", reviewer)"
   ]
  },
  {
   "cell_type": "code",
   "execution_count": null,
   "metadata": {},
   "outputs": [],
   "source": [
    "builder.add_edge(START, \"coder\")\n",
    "builder.add_edge(\"coder\", \"review\")\n",
    "builder.add_conditional_edges(\"review\", router)"
   ]
  },
  {
   "cell_type": "code",
   "execution_count": 383,
   "metadata": {},
   "outputs": [],
   "source": [
    "graph = builder.compile()"
   ]
  },
  {
   "cell_type": "code",
   "execution_count": 369,
   "metadata": {},
   "outputs": [
    {
     "data": {
      "image/png": "[encoded data removed]",
      "text/plain": [
       "<IPython.core.display.Image object>"
      ]
     },
     "metadata": {},
     "output_type": "display_data"
    }
   ],
   "source": [
    "display(Image(graph.get_graph().draw_mermaid_png()))"
   ]
  },
  {
   "cell_type": "code",
   "execution_count": null,
   "metadata": {},
   "outputs": [],
   "source": [
    "result = graph.invoke({\"question\":\"write me code to divide two numbers\", \"itr\":0})"
   ]
  },
  {
   "cell_type": "code",
   "execution_count": null,
   "metadata": {},
   "outputs": [],
   "source": [
    "inputs = {\"question\":HumanMessage(content=\"write me code to perform bfs in directed graph\"), \"itr\":0}\n",
    "for chunk in graph.stream(inputs, stream_mode=\"values\"):\n",
    "    print(chunk)"
   ]
  },
  {
   "cell_type": "code",
   "execution_count": null,
   "metadata": {},
   "outputs": [],
   "source": []
  }
 ],
 "metadata": {
  "kernelspec": {
   "display_name": "Python 3",
   "language": "python",
   "name": "python3"
  },
  "language_info": {
   "codemirror_mode": {
    "name": "ipython",
    "version": 3
   },
   "file_extension": ".py",
   "mimetype": "text/x-python",
   "name": "python",
   "nbconvert_exporter": "python",
   "pygments_lexer": "ipython3",
   "version": "3.11.8"
  }
 },
 "nbformat": 4,
 "nbformat_minor": 2
}
