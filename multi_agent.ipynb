{
 "cells": [
  {
   "cell_type": "code",
   "execution_count": 82,
   "metadata": {},
   "outputs": [
    {
     "data": {
      "text/plain": [
       "True"
      ]
     },
     "execution_count": 82,
     "metadata": {},
     "output_type": "execute_result"
    }
   ],
   "source": [
    "from langgraph.graph import START, END, StateGraph, MessagesState\n",
    "from langgraph.graph.message import add_messages\n",
    "from langchain_core.messages import HumanMessage, SystemMessage\n",
    "from langchain_google_genai import ChatGoogleGenerativeAI\n",
    "from dotenv import load_dotenv\n",
    "from langgraph.prebuilt import ToolNode, tools_condition\n",
    "from typing import TypedDict, Annotated\n",
    "from langchain_core.tools import tool\n",
    "from IPython.display import Image, display\n",
    "from langchain_community.tools import TavilySearchResults\n",
    "from langchain_community.document_loaders import WikipediaLoader\n",
    "import os\n",
    "load_dotenv()"
   ]
  },
  {
   "cell_type": "code",
   "execution_count": 8,
   "metadata": {},
   "outputs": [],
   "source": [
    "tavily = TavilySearchResults(max_results=2)"
   ]
  },
  {
   "cell_type": "code",
   "execution_count": 81,
   "metadata": {},
   "outputs": [],
   "source": [
    "class State(MessagesState):\n",
    "    question: str\n",
    "    messages: Annotated[list, add_messages]\n",
    "    answer: str"
   ]
  },
  {
   "cell_type": "code",
   "execution_count": 36,
   "metadata": {},
   "outputs": [],
   "source": [
    "def agent_tavily(state: State):\n",
    "    print(\"----------agent tavily----------\")\n",
    "    messages = tavily.invoke(state[\"question\"])\n",
    "    \n",
    "    state[\"messages\"] = [f\"source url: {c['url']} \\n\\n content: {c['content']}\" for c in messages]\n",
    "    return {\"messages\": state[\"messages\"]}"
   ]
  },
  {
   "cell_type": "code",
   "execution_count": 67,
   "metadata": {},
   "outputs": [],
   "source": [
    "def agent_wikipedia(state: State):\n",
    "    print(\"----------wikipedia----------\")\n",
    "    messages = WikipediaLoader(query=state[\"question\"], load_max_docs=1).load()\n",
    "    state[\"messages\"] = [f\"content: {c}\" for c in messages]\n",
    "    return {\"messages\": state[\"messages\"]}"
   ]
  },
  {
   "cell_type": "code",
   "execution_count": 86,
   "metadata": {},
   "outputs": [],
   "source": [
    "def agent_llm(state: State):\n",
    "    print(\"----------llm----------\")\n",
    "    model = ChatGoogleGenerativeAI(model = 'gemini-1.5-pro', api_key=os.environ[\"GEMINI_API_KEY\"])\n",
    "    \n",
    "    question = state[\"question\"]\n",
    "    content = state[\"messages\"]\n",
    "    template = '''Question is {question} and answer me using this content - {content}'''\n",
    "    all_content = template.format(question=question, content=content)\n",
    "    answer = model.invoke([SystemMessage(content=all_content)] + [HumanMessage(content=\"Kindly answer the above in short in 5 lines\")])\n",
    "    return {\"answer\": answer}"
   ]
  },
  {
   "cell_type": "code",
   "execution_count": 94,
   "metadata": {},
   "outputs": [],
   "source": [
    "builder = StateGraph(State)"
   ]
  },
  {
   "cell_type": "code",
   "execution_count": null,
   "metadata": {},
   "outputs": [],
   "source": [
    "builder.add_node(\"tavily_agent\", agent_tavily)\n",
    "builder.add_node(\"wikipedia\", agent_wikipedia)\n",
    "builder.add_node(\"llm\", agent_llm)"
   ]
  },
  {
   "cell_type": "code",
   "execution_count": null,
   "metadata": {},
   "outputs": [],
   "source": [
    "builder.add_edge(START, \"tavily_agent\")\n",
    "builder.add_edge(START, \"wikipedia\")\n",
    "builder.add_edge([\"tavily_agent\", \"wikipedia\"], \"llm\")\n",
    "builder.add_edge(\"llm\", END)"
   ]
  },
  {
   "cell_type": "code",
   "execution_count": 97,
   "metadata": {},
   "outputs": [],
   "source": [
    "graph = builder.compile()"
   ]
  },
  {
   "cell_type": "code",
   "execution_count": 98,
   "metadata": {},
   "outputs": [
    {
     "data": {
      "image/png": "[encoded data removed]",
      "text/plain": [
       "<IPython.core.display.Image object>"
      ]
     },
     "metadata": {},
     "output_type": "display_data"
    }
   ],
   "source": [
    "display(Image(graph.get_graph().draw_mermaid_png()))"
   ]
  },
  {
   "cell_type": "code",
   "execution_count": null,
   "metadata": {},
   "outputs": [],
   "source": [
    "events = graph.invoke({\"question\": \"what is an newton laws of motion\"})"
   ]
  },
  {
   "cell_type": "code",
   "execution_count": null,
   "metadata": {},
   "outputs": [],
   "source": [
    "print(events[\"answer\"].content)"
   ]
  },
  {
   "cell_type": "code",
   "execution_count": null,
   "metadata": {},
   "outputs": [],
   "source": []
  }
 ],
 "metadata": {
  "kernelspec": {
   "display_name": "Python 3",
   "language": "python",
   "name": "python3"
  },
  "language_info": {
   "codemirror_mode": {
    "name": "ipython",
    "version": 3
   },
   "file_extension": ".py",
   "mimetype": "text/x-python",
   "name": "python",
   "nbconvert_exporter": "python",
   "pygments_lexer": "ipython3",
   "version": "3.11.8"
  }
 },
 "nbformat": 4,
 "nbformat_minor": 2
}
